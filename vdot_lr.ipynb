{
 "cells": [
  {
   "cell_type": "code",
   "execution_count": 358,
   "metadata": {},
   "outputs": [],
   "source": [
    "import pandas as pd\n",
    "import numpy as np\n",
    "import re\n",
    "import datetime\n",
    "import seaborn as sns\n",
    "import matplotlib.pyplot as plt"
   ]
  },
  {
   "cell_type": "code",
   "execution_count": 405,
   "metadata": {},
   "outputs": [],
   "source": [
    "# 1,500\n",
    "t = [8,30,8,15,8,2,7,49,7,37,7,25,7,14,7,4,6,54,6,44,6,35,6,27,6,19,6,11,6,3,\n",
    "     5,56,5,49,5,42,5,36,5,30,5,24,5,18,5,13,5,7,5,2,4,57,4,53,4,48,4,44,4,39,\n",
    "     4,35,4,31,4,27,4,24,4,20,4,16,4,13,4,10,4,6,4,3,4,0,3,57,3,54,3,52,3,49,\n",
    "     3,46,3,44,3,41,3,39,3,37,3,34,3,32,3,30,3,28,3,26,3,24]\n",
    "t_tuple = [(i, *t) for i, t in enumerate(zip(t[0::2], t[1::2]), start=30)]\n",
    "data = [[vdot, datetime.timedelta(minutes=m, seconds=s)] for vdot, m, s in t_tuple]"
   ]
  },
  {
   "cell_type": "code",
   "execution_count": 400,
   "metadata": {},
   "outputs": [],
   "source": [
    "# marathon\n",
    "t = [4,49,17,4,41,57,4,34,59,4,28,22,4,22,3,4,16,3,4,10,19,4,4,50,3,59,35,\n",
    "     3,54,34,3,49,45,3,45,9,3,40,43,3,36,28,3,32,23,3,28,26,3,24,39,3,21,0,\n",
    "     3,17,29,3,14,6,3,10,49,3,7,39,3,4,36,3,1,39,2,58,47,2,56,1,2,53,20,2,50,45,\n",
    "     2,48,14,2,45,47,2,43,25,2,41,8,2,38,54,2,36,44,2,34,38,2,32,35,2,30,36,\n",
    "     2,28,40,2,26,47,2,24,57,2,23,10,2,21,26,2,19,44,2,18,5,2,16,29,2,14,55,\n",
    "     2,13,23,2,11,54,2,10,27,2,9,2,2,7,38,2,6,17,2,4,57,2,3,40,2,2,24,2,1,10]\n",
    "t_tuple = [(i, *t) for i, t in enumerate(zip(t[0::3], t[1::3], t[2::3]), start=30)]\n",
    "data = [[vdot, datetime.timedelta(hours=h, minutes=m, seconds=s)] for vdot, h, m, s in t_tuple]"
   ]
  },
  {
   "cell_type": "code",
   "execution_count": 406,
   "metadata": {},
   "outputs": [
    {
     "data": {
      "text/html": [
       "<div>\n",
       "<style scoped>\n",
       "    .dataframe tbody tr th:only-of-type {\n",
       "        vertical-align: middle;\n",
       "    }\n",
       "\n",
       "    .dataframe tbody tr th {\n",
       "        vertical-align: top;\n",
       "    }\n",
       "\n",
       "    .dataframe thead th {\n",
       "        text-align: right;\n",
       "    }\n",
       "</style>\n",
       "<table border=\"1\" class=\"dataframe\">\n",
       "  <thead>\n",
       "    <tr style=\"text-align: right;\">\n",
       "      <th></th>\n",
       "      <th>vdot</th>\n",
       "      <th>time</th>\n",
       "      <th>seconds</th>\n",
       "      <th>vdot_log</th>\n",
       "      <th>vdot_reciprocal</th>\n",
       "      <th>vdot_pow2</th>\n",
       "      <th>vdot_pow3</th>\n",
       "    </tr>\n",
       "  </thead>\n",
       "  <tbody>\n",
       "    <tr>\n",
       "      <th>0</th>\n",
       "      <td>30</td>\n",
       "      <td>0 days 00:08:30</td>\n",
       "      <td>510</td>\n",
       "      <td>3.401197</td>\n",
       "      <td>0.033333</td>\n",
       "      <td>900</td>\n",
       "      <td>27000</td>\n",
       "    </tr>\n",
       "    <tr>\n",
       "      <th>1</th>\n",
       "      <td>31</td>\n",
       "      <td>0 days 00:08:15</td>\n",
       "      <td>495</td>\n",
       "      <td>3.433987</td>\n",
       "      <td>0.032258</td>\n",
       "      <td>961</td>\n",
       "      <td>29791</td>\n",
       "    </tr>\n",
       "    <tr>\n",
       "      <th>2</th>\n",
       "      <td>32</td>\n",
       "      <td>0 days 00:08:02</td>\n",
       "      <td>482</td>\n",
       "      <td>3.465736</td>\n",
       "      <td>0.031250</td>\n",
       "      <td>1024</td>\n",
       "      <td>32768</td>\n",
       "    </tr>\n",
       "    <tr>\n",
       "      <th>3</th>\n",
       "      <td>33</td>\n",
       "      <td>0 days 00:07:49</td>\n",
       "      <td>469</td>\n",
       "      <td>3.496508</td>\n",
       "      <td>0.030303</td>\n",
       "      <td>1089</td>\n",
       "      <td>35937</td>\n",
       "    </tr>\n",
       "    <tr>\n",
       "      <th>4</th>\n",
       "      <td>34</td>\n",
       "      <td>0 days 00:07:37</td>\n",
       "      <td>457</td>\n",
       "      <td>3.526361</td>\n",
       "      <td>0.029412</td>\n",
       "      <td>1156</td>\n",
       "      <td>39304</td>\n",
       "    </tr>\n",
       "  </tbody>\n",
       "</table>\n",
       "</div>"
      ],
      "text/plain": [
       "   vdot            time  seconds  vdot_log  vdot_reciprocal  vdot_pow2  \\\n",
       "0    30 0 days 00:08:30      510  3.401197         0.033333        900   \n",
       "1    31 0 days 00:08:15      495  3.433987         0.032258        961   \n",
       "2    32 0 days 00:08:02      482  3.465736         0.031250       1024   \n",
       "3    33 0 days 00:07:49      469  3.496508         0.030303       1089   \n",
       "4    34 0 days 00:07:37      457  3.526361         0.029412       1156   \n",
       "\n",
       "   vdot_pow3  \n",
       "0      27000  \n",
       "1      29791  \n",
       "2      32768  \n",
       "3      35937  \n",
       "4      39304  "
      ]
     },
     "execution_count": 406,
     "metadata": {},
     "output_type": "execute_result"
    }
   ],
   "source": [
    "df = pd.DataFrame(data=data, columns=['vdot', 'time'])\n",
    "\n",
    "df['seconds'] = df['time'].apply(lambda x: int(x.total_seconds()))\n",
    "df['vdot_log'] = np.log(df.vdot)\n",
    "df['vdot_reciprocal'] = 1/df.vdot\n",
    "df['vdot_pow2'] = df.vdot ** 2\n",
    "df['vdot_pow3'] = df.vdot ** 3\n",
    "df.head()"
   ]
  },
  {
   "cell_type": "code",
   "execution_count": 407,
   "metadata": {},
   "outputs": [
    {
     "data": {
      "text/plain": [
       "Text(0.5, 1.0, 'x5 vdotpow3')"
      ]
     },
     "execution_count": 407,
     "metadata": {},
     "output_type": "execute_result"
    },
    {
     "data": {
      "image/png": "[encoded data removed]",
      "text/plain": [
       "<Figure size 1152x144 with 5 Axes>"
      ]
     },
     "metadata": {
      "needs_background": "light"
     },
     "output_type": "display_data"
    }
   ],
   "source": [
    "fig, ax = plt.subplots(1, 5, figsize=(16, 2), sharey=True)\n",
    "sns.lineplot(x=df.vdot, y=df.seconds, ax=ax[0]).set_title('x1 vdot')\n",
    "sns.lineplot(x=df.vdot_log, y=df.seconds, ax=ax[1]).set_title('x2 vdot_log')\n",
    "sns.lineplot(x=df.vdot_reciprocal, y=df.seconds, ax=ax[2]).set_title('x3 vdot_reciprocal')\n",
    "sns.lineplot(x=df.vdot_pow2, y=df.seconds, ax=ax[3]).set_title('x4 vdotpow2')\n",
    "sns.lineplot(x=df.vdot_pow3, y=df.seconds, ax=ax[4]).set_title('x5 vdotpow3')"
   ]
  },
  {
   "cell_type": "code",
   "execution_count": 408,
   "metadata": {},
   "outputs": [
    {
     "name": "stdout",
     "output_type": "stream",
     "text": [
      "0.99999013576423\n",
      "[ 0.  0.  0.  0.  0.  0.  0.  0.  0.  0.  0.  0.  0.  0.  0.  0.  0.  0.\n",
      "  0.  0.  0.  0.  0.  0.  0.  0.  0.  0.  0.  0.  0.  0.  0. -1.  0.  0.\n",
      "  0.  0.  0.  0.  0.  0.  0.  0.  0.  0.  0.  0.  0.  0.  0.  0.  0.  0.\n",
      "  0.  0.]\n",
      "np.array([1182.085091699069, 6.367170440963579, -322.778681874542, 7865.746434686376, -0.03397766949704373, 0.00011018322157951843]),\n"
     ]
    }
   ],
   "source": [
    "from sklearn.linear_model import LinearRegression\n",
    "\n",
    "X = df[['vdot', 'vdot_log', 'vdot_reciprocal', 'vdot_pow2', 'vdot_pow3']]\n",
    "y = df.seconds\n",
    "\n",
    "clf = LinearRegression()\n",
    "clf.fit(X, y)\n",
    "\n",
    "print(clf.score(X, y))\n",
    "print(np.round((clf.predict(X)), 0) - df.seconds.values)\n",
    "print(f\"np.array([{clf.intercept_}, {clf.coef_[0]}, {clf.coef_[1]}, {clf.coef_[2]}, {clf.coef_[3]}, {clf.coef_[4]}]),\")"
   ]
  },
  {
   "cell_type": "markdown",
   "metadata": {},
   "source": [
    "### weights and methods"
   ]
  },
  {
   "cell_type": "code",
   "execution_count": 431,
   "metadata": {},
   "outputs": [],
   "source": [
    "metadata = {\n",
    "    'e_pace': {\n",
    "        'distance': 1.0,\n",
    "        'weights': None,\n",
    "    },\n",
    "    't_pace': {\n",
    "        'distance': 1.0,\n",
    "        'weights': None,\n",
    "    },\n",
    "    'i_pace': {\n",
    "        'distance': 1.0,\n",
    "        'weights': None,\n",
    "    },\n",
    "    'r_pace': {\n",
    "        'distance': 1.0,\n",
    "        'weights': None,\n",
    "    },\n",
    "    '1.5k': {\n",
    "        'distance': 1.5,\n",
    "        'weights': np.array([1182.085091699069, 6.367170440963579, -322.778681874542, 7865.746434686376, -0.03397766949704373, 0.00011018322157951843]),\n",
    "    },\n",
    "    '1 mile': {\n",
    "        'distance': 1.60934,\n",
    "        'weights': None,\n",
    "    },\n",
    "    '3k': {\n",
    "        'distance': 3.0,\n",
    "        'weights': None,\n",
    "    },\n",
    "    '2 mile': {\n",
    "        'distance': 3.21869,\n",
    "        'weights': None,\n",
    "    },\n",
    "    '5k': {\n",
    "        'distance': 5.0,\n",
    "        'weights': None,\n",
    "    },\n",
    "    '10k': {\n",
    "        'distance': 10.0,\n",
    "        'weights': None,\n",
    "    },\n",
    "    'half marathon': {\n",
    "        'distance': 21.0975,\n",
    "        'weights': None,\n",
    "    },\n",
    "    'marathon': {\n",
    "        'distance': 42.195,\n",
    "        'weights': np.array([60636.22986513261, 246.74130046555726, -15730.318846607715, 109197.36142110199, -0.9739181072484939, 0.002111978999892017]),\n",
    "    }\n",
    "}\n",
    "\n",
    "def get_time(vdot, race):\n",
    "    X = np.array([1, vdot, np.log(vdot), 1/vdot, vdot**2, vdot**3])\n",
    "    w = metadata[race]['weights']\n",
    "    seconds = X @ w\n",
    "    return datetime.timedelta(seconds=seconds)\n",
    "\n",
    "def calculate_pace(time: datetime.timedelta, distance: float) -> datetime.timedelta:\n",
    "    return time / distance\n",
    "\n",
    "def calculate_time(distance: float, pace: datetime.timedelta) -> datetime.timedelta:\n",
    "    return distance * pace\n",
    "\n",
    "def calculate_distance(time: datetime.timedelta, pace: datetime.timedelta) -> float:\n",
    "    return np.round(time / pace, 5)\n",
    "\n",
    "def convert_pace_km_to_miles(pace: datetime.timedelta) -> datetime.timedelta:\n",
    "    return pace / 0.621371\n",
    "\n",
    "def convert_pace_miles_to_km(pace: datetime.timedelta) -> datetime.timedelta:\n",
    "    return pace * 0.621371\n",
    "\n",
    "def format_time(td: datetime.timedelta, strip: bool=True):\n",
    "    td = datetime.timedelta(seconds=td.seconds).__str__()\n",
    "    return re.search(pattern=r'[1-9].*', string=td).group() if strip else td"
   ]
  },
  {
   "cell_type": "code",
   "execution_count": 432,
   "metadata": {},
   "outputs": [
    {
     "name": "stdout",
     "output_type": "stream",
     "text": [
      "vdot: 65 \n",
      "race: marathon \n",
      "distance: 42.195 \n",
      "time: 2:32:35\n",
      "\n",
      "pace (km): 3:36 \n",
      "pace (mi): 5:49 \n",
      "time: 2:32:35 \n",
      "distance: 42.195\n",
      "\n",
      "[(30, '4:49:16'), (35, '4:16:02'), (40, '3:49:45'), (45, '3:28:26'), (50, '3:10:49'), (55, '2:56:01'), (60, '2:43:25'), (65, '2:32:35'), (70, '2:23:10'), (75, '2:14:55'), (80, '2:07:38')]\n"
     ]
    }
   ],
   "source": [
    "vdot = 65\n",
    "race = ['marathon', '1.5k'][0]\n",
    "distance = metadata[race]['distance']\n",
    "time = get_time(vdot, race)\n",
    "print(f'vdot: {vdot} \\nrace: {race} \\ndistance: {distance} \\ntime: {format_time(time)}')\n",
    "\n",
    "pace = calculate_pace(time, distance)\n",
    "pace_mi = convert_pace_km_to_miles(pace)\n",
    "time = calculate_time(distance, pace)\n",
    "distance = calculate_distance(time, pace)\n",
    "print(f'\\npace (km): {format_time(pace)} \\npace (mi): {format_time(pace_mi)} \\ntime: {format_time(time)} \\ndistance: {distance}')\n",
    "\n",
    "print(f'\\n{[(i, format_time(get_time(vdot=i, race=race))) for i in range(30, 85, 5)]}')"
   ]
  },
  {
   "cell_type": "code",
   "execution_count": null,
   "metadata": {},
   "outputs": [],
   "source": []
  }
 ],
 "metadata": {
  "interpreter": {
   "hash": "98ebdfb4e246a1692d4e96f3f752af76d9718d65a51dcd4cc3d9010affce8028"
  },
  "kernelspec": {
   "display_name": "Python 3.9.7 64-bit ('base': conda)",
   "language": "python",
   "name": "python3"
  },
  "language_info": {
   "codemirror_mode": {
    "name": "ipython",
    "version": 3
   },
   "file_extension": ".py",
   "mimetype": "text/x-python",
   "name": "python",
   "nbconvert_exporter": "python",
   "pygments_lexer": "ipython3",
   "version": "3.9.7"
  },
  "orig_nbformat": 4
 },
 "nbformat": 4,
 "nbformat_minor": 2
}
