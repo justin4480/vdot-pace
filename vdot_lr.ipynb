{
 "cells": [
  {
   "cell_type": "code",
   "execution_count": 2,
   "metadata": {},
   "outputs": [],
   "source": [
    "import pandas as pd\n",
    "import numpy as np\n",
    "import scipy\n",
    "import datetime\n",
    "import seaborn as sns\n",
    "import matplotlib.pyplot as plt"
   ]
  },
  {
   "cell_type": "code",
   "execution_count": 28,
   "metadata": {},
   "outputs": [],
   "source": [
    "e_min = [(30,7,27),(35,6,36),(40,5,56),(45,5,23),(50,4,56),(55,4,34),\n",
    "         (60,4,15),(65,3,59),(70,3,44),(75,3,32),(80,3,21),(85,3,11)]\n",
    "e_min_pace = [[vdot, datetime.timedelta(minutes=minutes, seconds=seconds)] for vdot, minutes, seconds in e_min]\n",
    "\n",
    "e_max = [(30,8,14),(35,7,21),(40,6,38),(45,6,3),(50,5,34),(55,5,10),\n",
    "         (60,4,49),(65,4,31),(70,4,15),(75,4,1),(80,3,49),(85,3,38)]\n",
    "e_max_pace = [[vdot, datetime.timedelta(minutes=minutes, seconds=seconds)] for vdot, minutes, seconds in e_max]\n",
    "\n",
    "m = [(30,7,3),(31,6,52),(32,6,40),(33,6,30),(34,6,20),(35,6,10),\n",
    "     (36,6,1),(37,5,53),(38,5,45),(39,5,37),(40,5,29),(41,5,22),\n",
    "     (42,5,16),(43,5,9),(44,5,3),(45,4,57),(46,4,51),(47,4,46),\n",
    "     (48,4,41),(49,4,36),(50,4,31),(51,4,27),(52,4,22),(53,4,18),\n",
    "     (54,4,14),(55,4,10),(56,4,6),(57,4,3),(58,3,59),(59,3,56),\n",
    "     (60,3,52),(61,3,49),(62,3,46),(63,3,43),(64,3,40),(65,3,37),\n",
    "     (66,3,34),(67,3,31),(68,3,29),(69,3,26),(70,3,24),(71,3,21),\n",
    "     (72,3,19),(73,3,16),(74,3,14),(75,3,12),(76,3,10),(77,3,8),\n",
    "     (78,3,6),(79,3,3),(80,3,1),(81,3,0),(82,2,58),(83,2,56),\n",
    "     (84,2,54),(85,2,52)]\n",
    "m_pace = [[vdot, datetime.timedelta(minutes=minutes, seconds=seconds)] for vdot, minutes, seconds in m]\n",
    "\n",
    "t = [(30,6,24),(35,5,40),(40,5,6),(45,4,38),(50,4,15),(55,3,56),\n",
    "     (60,3,40),(65,3,26),(70,3,14),(75,3,4),(80,2,54),(85,2,46)]\n",
    "t_pace = [[vdot, datetime.timedelta(minutes=minutes, seconds=seconds)] for vdot, minutes, seconds in t]\n",
    "\n",
    "i = [(30,5,55),(31,5,45),(32,5,35),(33,5,27),(34,5,20),\n",
    "     (35,5,12),(40,4,42),(45,4,16),(50,3,55),(55,3,37),\n",
    "     (60,3,23),(65,3,10),(70,2,59),(75,2,49),(80,2,41),(85,2,33)]\n",
    "i_pace = [[vdot, datetime.timedelta(minutes=minutes, seconds=seconds)] for vdot, minutes, seconds in i]\n",
    "\n",
    "r = [(30,5,35),(35,4,45),(40,4,20),(45,3,55),(50,3,35),(55,3,20),\n",
    "     (60,3,5),(65,2,50),(70,2,40),(75,2,30),(80,2,20),(85,2,15)]\n",
    "r_pace = [[vdot, datetime.timedelta(minutes=minutes, seconds=seconds)] for vdot, minutes, seconds in r]\n",
    "\n",
    "\n",
    "\n",
    "m = [(30,4,49,17),(35,4,16,3),(40,3,49,45),(45,3,28,26),(50,3,10,49),(55,2,56,1),\n",
    "     (60,2,43,25),(65,2,32,35),(70,2,23,10),(75,2,14,55),(80,2,7,38),(85,2,1,10)]\n",
    "m_time = [[vdot, datetime.timedelta(hours=h, minutes=m, seconds=s)] for vdot, h, m, s in m]"
   ]
  },
  {
   "cell_type": "code",
   "execution_count": 29,
   "metadata": {},
   "outputs": [
    {
     "data": {
      "text/html": [
       "<div>\n",
       "<style scoped>\n",
       "    .dataframe tbody tr th:only-of-type {\n",
       "        vertical-align: middle;\n",
       "    }\n",
       "\n",
       "    .dataframe tbody tr th {\n",
       "        vertical-align: top;\n",
       "    }\n",
       "\n",
       "    .dataframe thead th {\n",
       "        text-align: right;\n",
       "    }\n",
       "</style>\n",
       "<table border=\"1\" class=\"dataframe\">\n",
       "  <thead>\n",
       "    <tr style=\"text-align: right;\">\n",
       "      <th></th>\n",
       "      <th>vdot</th>\n",
       "      <th>mins_per_km</th>\n",
       "      <th>sec_per_km</th>\n",
       "      <th>vdot_log</th>\n",
       "    </tr>\n",
       "  </thead>\n",
       "  <tbody>\n",
       "    <tr>\n",
       "      <th>0</th>\n",
       "      <td>30</td>\n",
       "      <td>0 days 04:49:17</td>\n",
       "      <td>17357</td>\n",
       "      <td>3.401197</td>\n",
       "    </tr>\n",
       "    <tr>\n",
       "      <th>1</th>\n",
       "      <td>35</td>\n",
       "      <td>0 days 04:16:03</td>\n",
       "      <td>15363</td>\n",
       "      <td>3.555348</td>\n",
       "    </tr>\n",
       "    <tr>\n",
       "      <th>2</th>\n",
       "      <td>40</td>\n",
       "      <td>0 days 03:49:45</td>\n",
       "      <td>13785</td>\n",
       "      <td>3.688879</td>\n",
       "    </tr>\n",
       "    <tr>\n",
       "      <th>3</th>\n",
       "      <td>45</td>\n",
       "      <td>0 days 03:28:26</td>\n",
       "      <td>12506</td>\n",
       "      <td>3.806662</td>\n",
       "    </tr>\n",
       "    <tr>\n",
       "      <th>4</th>\n",
       "      <td>50</td>\n",
       "      <td>0 days 03:10:49</td>\n",
       "      <td>11449</td>\n",
       "      <td>3.912023</td>\n",
       "    </tr>\n",
       "  </tbody>\n",
       "</table>\n",
       "</div>"
      ],
      "text/plain": [
       "   vdot     mins_per_km  sec_per_km  vdot_log\n",
       "0    30 0 days 04:49:17       17357  3.401197\n",
       "1    35 0 days 04:16:03       15363  3.555348\n",
       "2    40 0 days 03:49:45       13785  3.688879\n",
       "3    45 0 days 03:28:26       12506  3.806662\n",
       "4    50 0 days 03:10:49       11449  3.912023"
      ]
     },
     "execution_count": 29,
     "metadata": {},
     "output_type": "execute_result"
    }
   ],
   "source": [
    "df = pd.DataFrame(data=m_time, columns=['vdot', 'mins_per_km'])\n",
    "\n",
    "df['sec_per_km'] = df['mins_per_km'].apply(lambda x: int(x.total_seconds()))\n",
    "df['vdot_log'] = np.log(df['vdot'])\n",
    "df.head()"
   ]
  },
  {
   "cell_type": "code",
   "execution_count": 30,
   "metadata": {},
   "outputs": [
    {
     "data": {
      "text/plain": [
       "<AxesSubplot:xlabel='vdot', ylabel='sec_per_km'>"
      ]
     },
     "execution_count": 30,
     "metadata": {},
     "output_type": "execute_result"
    },
    {
     "data": {
      "image/png": "[encoded data removed]",
      "text/plain": [
       "<Figure size 432x288 with 1 Axes>"
      ]
     },
     "metadata": {
      "needs_background": "light"
     },
     "output_type": "display_data"
    }
   ],
   "source": [
    "sns.lineplot(x=df.vdot, y=df.sec_per_km)"
   ]
  },
  {
   "cell_type": "code",
   "execution_count": 31,
   "metadata": {},
   "outputs": [
    {
     "name": "stdout",
     "output_type": "stream",
     "text": [
      "0.9999903487517959\n",
      "[1.35264281e-06 5.55779711e-06], -1.9773170200901904e-06\n",
      "[ 33.  -8. -17. -14.  -7.   0.   5.   7.   7.   4.   0.  -7.]\n",
      "'coef': np.array([1.35264281e-06 5.55779711e-06]), 'intercept': -1.9773170200901904e-06\n"
     ]
    }
   ],
   "source": [
    "from sklearn.linear_model import LinearRegression\n",
    "\n",
    "X = df[['vdot', 'vdot_log']]\n",
    "y = 1 / df.sec_per_km\n",
    "\n",
    "clf = LinearRegression()\n",
    "clf.fit(X, y)\n",
    "\n",
    "print(clf.score(X, y))\n",
    "print(f'{clf.coef_}, {clf.intercept_}')\n",
    "print(np.round((1 / clf.predict(X)), 0) - df.sec_per_km.values)\n",
    "print(f\"'coef': np.array({clf.coef_}), 'intercept': {clf.intercept_}\")"
   ]
  },
  {
   "cell_type": "code",
   "execution_count": 26,
   "metadata": {},
   "outputs": [
    {
     "data": {
      "text/plain": [
       "array([1.35264281e-06, 5.55779711e-06])"
      ]
     },
     "execution_count": 26,
     "metadata": {},
     "output_type": "execute_result"
    }
   ],
   "source": [
    "clf.coef_"
   ]
  },
  {
   "cell_type": "markdown",
   "metadata": {},
   "source": [
    "### M (marathon pace)"
   ]
  },
  {
   "cell_type": "code",
   "execution_count": 547,
   "metadata": {},
   "outputs": [],
   "source": [
    "linear_regression_stats = {\n",
    "    'm': {'coef': [5.20176045e-05, 5.60078308e-04], 'intercept': -0.0011082739994069607},\n",
    "    't': {'coef': [5.15585827e-05, 5.76422687e-04], 'intercept': -0.0009109768232632535},\n",
    "}"
   ]
  },
  {
   "cell_type": "code",
   "execution_count": 27,
   "metadata": {},
   "outputs": [
    {
     "name": "stdout",
     "output_type": "stream",
     "text": [
      "479.0655415840528\n",
      "0:04:31\n",
      "0:07:17\n"
     ]
    }
   ],
   "source": [
    "def get_race_raw(vdot: int):\n",
    "    coef = np.array([41.35264281e-06, 5.55779711e-06])\n",
    "    intercept = -1.9773170200901904e-06\n",
    "    X = np.array([vdot, np.log(vdot)])\n",
    "    return 1 / (intercept + (X.dot(coef)))\n",
    "\n",
    "def get_marathon_pace_km(vdot: int):\n",
    "    seconds = np.round(get_marathon_pace_km_raw(vdot), 0)\n",
    "    return str(datetime.timedelta(seconds=seconds))\n",
    "\n",
    "def get_marathon_pace_km_raw(vdot: int):\n",
    "    coef = np.array([5.20176045e-05, 5.60078308e-04])\n",
    "    intercept = -0.0011082739994069607\n",
    "    X = np.array([vdot, np.log(vdot)])\n",
    "    return 1 / (intercept + (X.dot(coef)))\n",
    "\n",
    "def get_marathon_pace_km(vdot: int):\n",
    "    seconds = np.round(get_marathon_pace_km_raw(vdot), 0)\n",
    "    return str(datetime.timedelta(seconds=seconds))\n",
    "\n",
    "def get_marathon_pace_mi(vdot: int):\n",
    "    seconds = np.round(get_marathon_pace_km_raw(vdot) / 0.621371, 0)\n",
    "    return str(datetime.timedelta(seconds=seconds))\n",
    "\n",
    "vdot = 50\n",
    "print(get_race_raw(vdot))\n",
    "print(get_marathon_pace_km(vdot))\n",
    "print(get_marathon_pace_mi(vdot))\n",
    "\n",
    "# @ VDOT 50\n",
    "# 4:31 mins per km\n",
    "# 7:17 mins per mile"
   ]
  },
  {
   "cell_type": "code",
   "execution_count": null,
   "metadata": {},
   "outputs": [],
   "source": []
  },
  {
   "cell_type": "markdown",
   "metadata": {},
   "source": [
    "### T (threshold pace)"
   ]
  },
  {
   "cell_type": "code",
   "execution_count": 545,
   "metadata": {},
   "outputs": [
    {
     "name": "stdout",
     "output_type": "stream",
     "text": [
      "0:04:15\n",
      "0:06:50\n"
     ]
    }
   ],
   "source": [
    "def get_threshold_pace_km_raw(vdot: int):\n",
    "    coef = np.array([5.15585827e-05, 5.76422687e-04])\n",
    "    intercept = -0.0009109768232632535\n",
    "    X = np.array([vdot, np.log(vdot)])\n",
    "    return 1 / (intercept + (X.dot(coef)))\n",
    "\n",
    "def get_threshold_pace_km(vdot: int):\n",
    "    seconds = np.round(get_threshold_pace_km_raw(vdot), 0)\n",
    "    return str(datetime.timedelta(seconds=seconds))\n",
    "\n",
    "def get_threshold_pace_mi(vdot: int):\n",
    "    seconds = np.round(get_threshold_pace_km_raw(vdot) / 0.621371, 0)\n",
    "    return str(datetime.timedelta(seconds=seconds))\n",
    "\n",
    "vdot = 50\n",
    "print(get_threshold_pace_km(vdot))\n",
    "print(get_threshold_pace_mi(vdot))\n",
    "\n",
    "# @ VDOT 50\n",
    "# 4:15 mins per km\n",
    "# 6:50 mins per mile"
   ]
  },
  {
   "cell_type": "code",
   "execution_count": null,
   "metadata": {},
   "outputs": [],
   "source": []
  }
 ],
 "metadata": {
  "interpreter": {
   "hash": "98ebdfb4e246a1692d4e96f3f752af76d9718d65a51dcd4cc3d9010affce8028"
  },
  "kernelspec": {
   "display_name": "Python 3.9.7 64-bit ('base': conda)",
   "language": "python",
   "name": "python3"
  },
  "language_info": {
   "codemirror_mode": {
    "name": "ipython",
    "version": 3
   },
   "file_extension": ".py",
   "mimetype": "text/x-python",
   "name": "python",
   "nbconvert_exporter": "python",
   "pygments_lexer": "ipython3",
   "version": "3.9.7"
  },
  "orig_nbformat": 4
 },
 "nbformat": 4,
 "nbformat_minor": 2
}
